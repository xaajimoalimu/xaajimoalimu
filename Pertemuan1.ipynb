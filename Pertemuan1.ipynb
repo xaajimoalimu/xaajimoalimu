{
  "cells": [
    {
      "cell_type": "code",
      "execution_count": null,
      "metadata": {
        "id": "Q0PSYv7sBYgT"
      },
      "outputs": [],
      "source": [
        "# Laju Pertumbuhan Produk Domestik Regional Bruto di Pulau Jawa\n",
        "# Data: http://satudata.sumselprov.go.id/v3/data/index.php?q=Data-View&s=194"
      ]
    },
    {
      "cell_type": "code",
      "execution_count": null,
      "metadata": {
        "id": "nZHmHvqhBg7J"
      },
      "outputs": [],
      "source": [
        "import pandas as pd\n",
        "import numpy as np\n",
        "import matplotlib.pyplot as plt\n",
        "df = pd.read_csv('GPD_Provinsi_Indo.csv')\n",
        "df"
      ]
    },
    {
      "cell_type": "code",
      "execution_count": null,
      "metadata": {
        "id": "X65JBGP0Bl35"
      },
      "outputs": [],
      "source": [
        "Banten = df[df['Provinsi'] == 'Banten']\n",
        "Jakarta = df[df['Provinsi'] == 'DKI Jakarta']\n",
        "Jabar = df[df['Provinsi'] == 'Jawa Barat']\n",
        "Jateng = df[df['Provinsi'] == 'Jawa Tengah']\n",
        "DIY = df[df['Provinsi'] == 'DI Yogyakarta']\n",
        "Jatim = df[df['Provinsi'] == 'Jawa Timur']\n",
        "Tahun = list(df.columns[1:7])"
      ]
    },
    {
      "cell_type": "code",
      "execution_count": null,
      "metadata": {
        "id": "tYXdM2yqCcPi"
      },
      "outputs": [],
      "source": [
        "Jakarta"
      ]
    },
    {
      "cell_type": "code",
      "source": [
        "Jabar"
      ],
      "metadata": {
        "id": "qQf06I8vD2NX"
      },
      "execution_count": null,
      "outputs": []
    },
    {
      "cell_type": "code",
      "source": [
        "Jatim"
      ],
      "metadata": {
        "id": "xd2AaoZFD5tL"
      },
      "execution_count": null,
      "outputs": []
    },
    {
      "cell_type": "code",
      "source": [
        "Jateng"
      ],
      "metadata": {
        "id": "HE3PIqA8D-I7"
      },
      "execution_count": null,
      "outputs": []
    },
    {
      "cell_type": "code",
      "source": [
        "DIY"
      ],
      "metadata": {
        "id": "IEPUNy5BEBzj"
      },
      "execution_count": null,
      "outputs": []
    },
    {
      "cell_type": "code",
      "source": [
        "BantenGDP = np.array(Banten.iloc[0:1, 1:6])\n",
        "JakartaGDP = np.array(Jakarta.iloc[0:1, 1:6])\n",
        "JabarGDP = np.array(Jabar.iloc[0:1, 1:6])\n",
        "JatengGDP = np.array(Jateng.iloc[0:1, 1:6])\n",
        "DIYGDP = np.array(DIY.iloc[0:1, 1:6])\n",
        "JatimGDP = np.array(Jatim.iloc[0:1, 1:6])"
      ],
      "metadata": {
        "id": "PzXMdmc_EHpK"
      },
      "execution_count": null,
      "outputs": []
    },
    {
      "cell_type": "code",
      "source": [
        "plt.plot(Tahun, BantenGDP[0])\n",
        "plt.plot(Tahun, JakartaGDP[0])\n",
        "plt.plot(Tahun, JabarGDP[0])\n",
        "plt.plot(Tahun, JatengGDP[0])\n",
        "plt.plot(Tahun, DIYGDP[0])\n",
        "plt.plot(Tahun, JatimGDP[0])\n",
        "plt.xlabel('tahun')\n",
        "plt.ylabel('Presentase')\n",
        "plt.legend(['Banten', 'DKI Jakarta','Jawa Barat','Jawa tengah', 'DIY', 'Jawa Timur'])\n",
        "\n",
        "plt.show()"
      ],
      "metadata": {
        "id": "2Les2lonENNo"
      },
      "execution_count": null,
      "outputs": []
    }
  ],
  "metadata": {
    "colab": {
      "name": "Pertemuan1.ipynb",
      "provenance": [],
      "collapsed_sections": []
    },
    "kernelspec": {
      "display_name": "Python 3",
      "name": "python3"
    },
    "language_info": {
      "name": "python"
    }
  },
  "nbformat": 4,
  "nbformat_minor": 0
}